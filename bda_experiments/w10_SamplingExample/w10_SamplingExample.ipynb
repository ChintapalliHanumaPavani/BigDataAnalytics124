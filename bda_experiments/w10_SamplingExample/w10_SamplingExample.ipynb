{
  "nbformat": 4,
  "nbformat_minor": 0,
  "metadata": {
    "colab": {
      "provenance": []
    },
    "kernelspec": {
      "name": "python3",
      "display_name": "Python 3"
    },
    "language_info": {
      "name": "python"
    }
  },
  "cells": [
    {
      "cell_type": "code",
      "execution_count": 1,
      "metadata": {
        "id": "Rd4CY6fx76IO"
      },
      "outputs": [],
      "source": [
        "!pip install pyspark -q"
      ]
    },
    {
      "cell_type": "code",
      "source": [
        "from google.colab import files\n",
        "\n",
        "# Upload your students.csv\n",
        "uploaded = files.upload()"
      ],
      "metadata": {
        "colab": {
          "base_uri": "https://localhost:8080/",
          "height": 73
        },
        "id": "JcE57QUz76-4",
        "outputId": "3994d2d3-7d9d-4160-abb5-6539694d077b"
      },
      "execution_count": 2,
      "outputs": [
        {
          "output_type": "display_data",
          "data": {
            "text/plain": [
              "<IPython.core.display.HTML object>"
            ],
            "text/html": [
              "\n",
              "     <input type=\"file\" id=\"files-cd9e0795-3b32-4357-8502-a3d76826e8fb\" name=\"files[]\" multiple disabled\n",
              "        style=\"border:none\" />\n",
              "     <output id=\"result-cd9e0795-3b32-4357-8502-a3d76826e8fb\">\n",
              "      Upload widget is only available when the cell has been executed in the\n",
              "      current browser session. Please rerun this cell to enable.\n",
              "      </output>\n",
              "      <script>// Copyright 2017 Google LLC\n",
              "//\n",
              "// Licensed under the Apache License, Version 2.0 (the \"License\");\n",
              "// you may not use this file except in compliance with the License.\n",
              "// You may obtain a copy of the License at\n",
              "//\n",
              "//      http://www.apache.org/licenses/LICENSE-2.0\n",
              "//\n",
              "// Unless required by applicable law or agreed to in writing, software\n",
              "// distributed under the License is distributed on an \"AS IS\" BASIS,\n",
              "// WITHOUT WARRANTIES OR CONDITIONS OF ANY KIND, either express or implied.\n",
              "// See the License for the specific language governing permissions and\n",
              "// limitations under the License.\n",
              "\n",
              "/**\n",
              " * @fileoverview Helpers for google.colab Python module.\n",
              " */\n",
              "(function(scope) {\n",
              "function span(text, styleAttributes = {}) {\n",
              "  const element = document.createElement('span');\n",
              "  element.textContent = text;\n",
              "  for (const key of Object.keys(styleAttributes)) {\n",
              "    element.style[key] = styleAttributes[key];\n",
              "  }\n",
              "  return element;\n",
              "}\n",
              "\n",
              "// Max number of bytes which will be uploaded at a time.\n",
              "const MAX_PAYLOAD_SIZE = 100 * 1024;\n",
              "\n",
              "function _uploadFiles(inputId, outputId) {\n",
              "  const steps = uploadFilesStep(inputId, outputId);\n",
              "  const outputElement = document.getElementById(outputId);\n",
              "  // Cache steps on the outputElement to make it available for the next call\n",
              "  // to uploadFilesContinue from Python.\n",
              "  outputElement.steps = steps;\n",
              "\n",
              "  return _uploadFilesContinue(outputId);\n",
              "}\n",
              "\n",
              "// This is roughly an async generator (not supported in the browser yet),\n",
              "// where there are multiple asynchronous steps and the Python side is going\n",
              "// to poll for completion of each step.\n",
              "// This uses a Promise to block the python side on completion of each step,\n",
              "// then passes the result of the previous step as the input to the next step.\n",
              "function _uploadFilesContinue(outputId) {\n",
              "  const outputElement = document.getElementById(outputId);\n",
              "  const steps = outputElement.steps;\n",
              "\n",
              "  const next = steps.next(outputElement.lastPromiseValue);\n",
              "  return Promise.resolve(next.value.promise).then((value) => {\n",
              "    // Cache the last promise value to make it available to the next\n",
              "    // step of the generator.\n",
              "    outputElement.lastPromiseValue = value;\n",
              "    return next.value.response;\n",
              "  });\n",
              "}\n",
              "\n",
              "/**\n",
              " * Generator function which is called between each async step of the upload\n",
              " * process.\n",
              " * @param {string} inputId Element ID of the input file picker element.\n",
              " * @param {string} outputId Element ID of the output display.\n",
              " * @return {!Iterable<!Object>} Iterable of next steps.\n",
              " */\n",
              "function* uploadFilesStep(inputId, outputId) {\n",
              "  const inputElement = document.getElementById(inputId);\n",
              "  inputElement.disabled = false;\n",
              "\n",
              "  const outputElement = document.getElementById(outputId);\n",
              "  outputElement.innerHTML = '';\n",
              "\n",
              "  const pickedPromise = new Promise((resolve) => {\n",
              "    inputElement.addEventListener('change', (e) => {\n",
              "      resolve(e.target.files);\n",
              "    });\n",
              "  });\n",
              "\n",
              "  const cancel = document.createElement('button');\n",
              "  inputElement.parentElement.appendChild(cancel);\n",
              "  cancel.textContent = 'Cancel upload';\n",
              "  const cancelPromise = new Promise((resolve) => {\n",
              "    cancel.onclick = () => {\n",
              "      resolve(null);\n",
              "    };\n",
              "  });\n",
              "\n",
              "  // Wait for the user to pick the files.\n",
              "  const files = yield {\n",
              "    promise: Promise.race([pickedPromise, cancelPromise]),\n",
              "    response: {\n",
              "      action: 'starting',\n",
              "    }\n",
              "  };\n",
              "\n",
              "  cancel.remove();\n",
              "\n",
              "  // Disable the input element since further picks are not allowed.\n",
              "  inputElement.disabled = true;\n",
              "\n",
              "  if (!files) {\n",
              "    return {\n",
              "      response: {\n",
              "        action: 'complete',\n",
              "      }\n",
              "    };\n",
              "  }\n",
              "\n",
              "  for (const file of files) {\n",
              "    const li = document.createElement('li');\n",
              "    li.append(span(file.name, {fontWeight: 'bold'}));\n",
              "    li.append(span(\n",
              "        `(${file.type || 'n/a'}) - ${file.size} bytes, ` +\n",
              "        `last modified: ${\n",
              "            file.lastModifiedDate ? file.lastModifiedDate.toLocaleDateString() :\n",
              "                                    'n/a'} - `));\n",
              "    const percent = span('0% done');\n",
              "    li.appendChild(percent);\n",
              "\n",
              "    outputElement.appendChild(li);\n",
              "\n",
              "    const fileDataPromise = new Promise((resolve) => {\n",
              "      const reader = new FileReader();\n",
              "      reader.onload = (e) => {\n",
              "        resolve(e.target.result);\n",
              "      };\n",
              "      reader.readAsArrayBuffer(file);\n",
              "    });\n",
              "    // Wait for the data to be ready.\n",
              "    let fileData = yield {\n",
              "      promise: fileDataPromise,\n",
              "      response: {\n",
              "        action: 'continue',\n",
              "      }\n",
              "    };\n",
              "\n",
              "    // Use a chunked sending to avoid message size limits. See b/62115660.\n",
              "    let position = 0;\n",
              "    do {\n",
              "      const length = Math.min(fileData.byteLength - position, MAX_PAYLOAD_SIZE);\n",
              "      const chunk = new Uint8Array(fileData, position, length);\n",
              "      position += length;\n",
              "\n",
              "      const base64 = btoa(String.fromCharCode.apply(null, chunk));\n",
              "      yield {\n",
              "        response: {\n",
              "          action: 'append',\n",
              "          file: file.name,\n",
              "          data: base64,\n",
              "        },\n",
              "      };\n",
              "\n",
              "      let percentDone = fileData.byteLength === 0 ?\n",
              "          100 :\n",
              "          Math.round((position / fileData.byteLength) * 100);\n",
              "      percent.textContent = `${percentDone}% done`;\n",
              "\n",
              "    } while (position < fileData.byteLength);\n",
              "  }\n",
              "\n",
              "  // All done.\n",
              "  yield {\n",
              "    response: {\n",
              "      action: 'complete',\n",
              "    }\n",
              "  };\n",
              "}\n",
              "\n",
              "scope.google = scope.google || {};\n",
              "scope.google.colab = scope.google.colab || {};\n",
              "scope.google.colab._files = {\n",
              "  _uploadFiles,\n",
              "  _uploadFilesContinue,\n",
              "};\n",
              "})(self);\n",
              "</script> "
            ]
          },
          "metadata": {}
        },
        {
          "output_type": "stream",
          "name": "stdout",
          "text": [
            "Saving students.csv to students.csv\n"
          ]
        }
      ]
    },
    {
      "cell_type": "code",
      "source": [
        "from pyspark.sql import SparkSession\n",
        "# Step 1: Initialize Spark Session\n",
        "spark = SparkSession.builder.appName(\"SamplingExample\").getOrCreate()"
      ],
      "metadata": {
        "id": "ChgHEBex8Ef0"
      },
      "execution_count": 3,
      "outputs": []
    },
    {
      "cell_type": "code",
      "source": [
        "df = spark.read.csv(\"students.csv\", header=True, inferSchema=True)"
      ],
      "metadata": {
        "id": "OAFNODLQ8Joy"
      },
      "execution_count": 4,
      "outputs": []
    },
    {
      "cell_type": "code",
      "source": [
        "# === Sampling Demonstration (within 7 operations) ===\n",
        "# 1. View first 5 rows\n",
        "print(\"=== First 5 rows of dataset ===\")\n",
        "df.show(5)"
      ],
      "metadata": {
        "colab": {
          "base_uri": "https://localhost:8080/"
        },
        "id": "H0pPWDh68PrT",
        "outputId": "f4919384-5b96-4be0-aa1d-8a1f6f92eab6"
      },
      "execution_count": 5,
      "outputs": [
        {
          "output_type": "stream",
          "name": "stdout",
          "text": [
            "=== First 5 rows of dataset ===\n",
            "+---+-------+---+------+----+-------+-------+\n",
            "| id|   name|age|gender|math|science|english|\n",
            "+---+-------+---+------+----+-------+-------+\n",
            "|  1|  Alice| 20|     F|  66|     92|     44|\n",
            "|  2|    Bob| 20|     M|  82|     52|     77|\n",
            "|  3|Charlie| 22|     F|  43|     57|     76|\n",
            "|  4|  David| 19|     M|  95|     69|     46|\n",
            "|  5|    Eva| 19|     F|  62|     44|     96|\n",
            "+---+-------+---+------+----+-------+-------+\n",
            "only showing top 5 rows\n",
            "\n"
          ]
        }
      ]
    },
    {
      "cell_type": "code",
      "source": [
        "# 2. Print schema\n",
        "print(\"=== Schema of dataset ===\")\n",
        "df.printSchema()"
      ],
      "metadata": {
        "colab": {
          "base_uri": "https://localhost:8080/"
        },
        "id": "wi19f0E-8UeR",
        "outputId": "069e99c1-92ca-4d20-c948-750447c47f81"
      },
      "execution_count": 6,
      "outputs": [
        {
          "output_type": "stream",
          "name": "stdout",
          "text": [
            "=== Schema of dataset ===\n",
            "root\n",
            " |-- id: integer (nullable = true)\n",
            " |-- name: string (nullable = true)\n",
            " |-- age: integer (nullable = true)\n",
            " |-- gender: string (nullable = true)\n",
            " |-- math: integer (nullable = true)\n",
            " |-- science: integer (nullable = true)\n",
            " |-- english: integer (nullable = true)\n",
            "\n"
          ]
        }
      ]
    },
    {
      "cell_type": "code",
      "source": [
        "# 3. Random sample without replacement (30% of data)\n",
        "print(\"=== Sample (30% without replacement) ===\")\n",
        "df.sample(withReplacement=False, fraction=0.3, seed=42).show(10)"
      ],
      "metadata": {
        "colab": {
          "base_uri": "https://localhost:8080/"
        },
        "id": "C2d0xLkW8XQm",
        "outputId": "3b9cef29-16f7-495e-dce0-ce55cf3cd5bd"
      },
      "execution_count": 7,
      "outputs": [
        {
          "output_type": "stream",
          "name": "stdout",
          "text": [
            "=== Sample (30% without replacement) ===\n",
            "+---+------+---+------+----+-------+-------+\n",
            "| id|  name|age|gender|math|science|english|\n",
            "+---+------+---+------+----+-------+-------+\n",
            "|  4| David| 19|     M|  95|     69|     46|\n",
            "|  8| Henry| 21|     F|  53|     82|     60|\n",
            "| 17|Quincy| 18|     M|  65|     79|     54|\n",
            "| 19|   Sam| 18|     F|  76|     70|     65|\n",
            "| 27| Aaron| 25|     F|  81|     99|     44|\n",
            "| 28| Bella| 19|     F|  54|     76|     76|\n",
            "| 32| Fiona| 22|     F|  48|     96|     48|\n",
            "| 37|  Kyle| 21|     M|  57|     86|     92|\n",
            "| 39|  Matt| 25|     M|  64|     71|    100|\n",
            "| 41| Oscar| 20|     M|  87|     72|     81|\n",
            "+---+------+---+------+----+-------+-------+\n",
            "only showing top 10 rows\n",
            "\n"
          ]
        }
      ]
    },
    {
      "cell_type": "code",
      "source": [
        "# 4. Random sample with replacement (20% of data)\n",
        "print(\"=== Sample (20% with replacement) ===\")\n",
        "df.sample(withReplacement=True, fraction=0.2, seed=42).show(10)"
      ],
      "metadata": {
        "colab": {
          "base_uri": "https://localhost:8080/"
        },
        "id": "6h2v9REh8Zwg",
        "outputId": "31c75b98-6d34-4a23-a08a-59e21276de57"
      },
      "execution_count": 8,
      "outputs": [
        {
          "output_type": "stream",
          "name": "stdout",
          "text": [
            "=== Sample (20% with replacement) ===\n",
            "+---+------+---+------+----+-------+-------+\n",
            "| id|  name|age|gender|math|science|english|\n",
            "+---+------+---+------+----+-------+-------+\n",
            "|  6| Frank| 22|     F|  70|     78|     94|\n",
            "|  7| Grace| 24|     F|  67|     66|     93|\n",
            "| 14|Nathan| 23|     F|  71|     66|     60|\n",
            "| 17|Quincy| 18|     M|  65|     79|     54|\n",
            "| 21|   Uma| 19|     F|  89|     70|     76|\n",
            "| 22|Victor| 22|     M|  96|     75|     56|\n",
            "| 31| Ethan| 24|     M|  53|     57|     45|\n",
            "| 32| Fiona| 22|     F|  48|     96|     48|\n",
            "| 35|   Ian| 21|     F|  72|     75|     70|\n",
            "| 38| Laura| 23|     M|  84|     73|     56|\n",
            "+---+------+---+------+----+-------+-------+\n",
            "only showing top 10 rows\n",
            "\n"
          ]
        }
      ]
    },
    {
      "cell_type": "code",
      "source": [
        "# 5. Take a random sample of 5 rows using takeSample (without replacement)\n",
        "print(\"=== takeSample: 5 rows (without replacement) ===\")\n",
        "sampled_rows = df.rdd.takeSample(False, 5, seed=42)\n",
        "for row in sampled_rows:\n",
        "    print(row)"
      ],
      "metadata": {
        "colab": {
          "base_uri": "https://localhost:8080/"
        },
        "id": "zy9zut-o8cY7",
        "outputId": "737d7c10-3d00-4cea-c8da-112285426d99"
      },
      "execution_count": 9,
      "outputs": [
        {
          "output_type": "stream",
          "name": "stdout",
          "text": [
            "=== takeSample: 5 rows (without replacement) ===\n",
            "Row(id=35, name='Ian', age=21, gender='F', math=72, science=75, english=70)\n",
            "Row(id=26, name='Zoey', age=18, gender='M', math=42, science=48, english=42)\n",
            "Row(id=17, name='Quincy', age=18, gender='M', math=65, science=79, english=54)\n",
            "Row(id=43, name='Quinn', age=18, gender='F', math=56, science=60, english=87)\n",
            "Row(id=38, name='Laura', age=23, gender='M', math=84, science=73, english=56)\n"
          ]
        }
      ]
    },
    {
      "cell_type": "code",
      "source": [
        "# 6. Take a random sample of 5 rows using takeSample (with replacement)\n",
        "print(\"=== takeSample: 5 rows (with replacement) ===\")\n",
        "sampled_rows_wr = df.rdd.takeSample(True, 5, seed=42)\n",
        "for row in sampled_rows_wr:\n",
        "    print(row)"
      ],
      "metadata": {
        "colab": {
          "base_uri": "https://localhost:8080/"
        },
        "id": "z39Ncqp18fju",
        "outputId": "090c6815-5a99-4f5d-bcb7-025955f31d0c"
      },
      "execution_count": 10,
      "outputs": [
        {
          "output_type": "stream",
          "name": "stdout",
          "text": [
            "=== takeSample: 5 rows (with replacement) ===\n",
            "Row(id=47, name='Umar', age=21, gender='F', math=75, science=80, english=59)\n",
            "Row(id=17, name='Quincy', age=18, gender='M', math=65, science=79, english=54)\n",
            "Row(id=10, name='Jack', age=19, gender='F', math=44, science=59, english=60)\n",
            "Row(id=38, name='Laura', age=23, gender='M', math=84, science=73, english=56)\n",
            "Row(id=23, name='Wendy', age=24, gender='M', math=57, science=83, english=81)\n"
          ]
        }
      ]
    },
    {
      "cell_type": "code",
      "source": [
        "# 7. Count total rows (to compare with sampled data size)\n",
        "print(\"Total rows in dataset:\", df.count())"
      ],
      "metadata": {
        "colab": {
          "base_uri": "https://localhost:8080/"
        },
        "id": "2pcr0E8Q8h7f",
        "outputId": "787c8ff1-039c-4bf6-d548-71bce62c2123"
      },
      "execution_count": 11,
      "outputs": [
        {
          "output_type": "stream",
          "name": "stdout",
          "text": [
            "Total rows in dataset: 50\n"
          ]
        }
      ]
    },
    {
      "cell_type": "code",
      "source": [],
      "metadata": {
        "id": "l2u7wEsv8kbx"
      },
      "execution_count": null,
      "outputs": []
    }
  ]
}