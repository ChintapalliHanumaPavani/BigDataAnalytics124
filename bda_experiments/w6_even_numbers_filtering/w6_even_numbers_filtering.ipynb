{
  "nbformat": 4,
  "nbformat_minor": 0,
  "metadata": {
    "colab": {
      "provenance": []
    },
    "kernelspec": {
      "name": "python3",
      "display_name": "Python 3"
    },
    "language_info": {
      "name": "python"
    }
  },
  "cells": [
    {
      "cell_type": "code",
      "execution_count": 1,
      "metadata": {
        "id": "ex7A83Ipj4VE"
      },
      "outputs": [],
      "source": [
        "!pip install -q pyspark"
      ]
    },
    {
      "cell_type": "code",
      "source": [
        "from pyspark import SparkContext\n",
        "import random\n",
        "\n",
        "# Step 1: Initialize SparkContext\n",
        "sc = SparkContext(\"local\", \"EvenNumberFilter\")"
      ],
      "metadata": {
        "id": "BJPIdPPrkVwb"
      },
      "execution_count": 2,
      "outputs": []
    },
    {
      "cell_type": "code",
      "source": [
        "# Step 2: Generate 100 random integers between 1 and 1000\n",
        "random_numbers = [random.randint(1, 1000) for _ in range(100)]\n",
        "print(\"Original List:\")\n",
        "print(random_numbers)"
      ],
      "metadata": {
        "colab": {
          "base_uri": "https://localhost:8080/"
        },
        "id": "DWwSH6kPkrTm",
        "outputId": "8d8bc0bc-3526-4d31-db1f-b55e4355928a"
      },
      "execution_count": 3,
      "outputs": [
        {
          "output_type": "stream",
          "name": "stdout",
          "text": [
            "Original List:\n",
            "[932, 471, 147, 402, 906, 100, 717, 235, 927, 250, 357, 187, 384, 787, 589, 848, 28, 83, 827, 176, 35, 484, 980, 362, 258, 890, 121, 697, 518, 607, 813, 702, 288, 667, 435, 558, 890, 320, 304, 689, 637, 469, 959, 922, 883, 148, 176, 318, 867, 197, 397, 583, 367, 858, 545, 66, 150, 318, 337, 732, 279, 185, 766, 711, 634, 44, 243, 162, 897, 769, 367, 619, 373, 288, 766, 964, 303, 713, 770, 132, 426, 33, 798, 759, 600, 95, 617, 500, 546, 617, 875, 826, 93, 717, 455, 705, 970, 840, 926, 166]\n"
          ]
        }
      ]
    },
    {
      "cell_type": "code",
      "source": [
        "# Step 3: Parallelize the list into an RDD\n",
        "numbers_rdd = sc.parallelize(random_numbers)\n",
        "\n",
        "# Step 4: Filter only even numbers\n",
        "even_numbers_rdd = numbers_rdd.filter(lambda x: x % 2 == 0)\n",
        "\n",
        "# Step 5: Collect results\n",
        "even_numbers = even_numbers_rdd.collect()\n",
        "\n",
        "print(\"\\nEven Numbers:\")\n",
        "print(even_numbers)"
      ],
      "metadata": {
        "colab": {
          "base_uri": "https://localhost:8080/"
        },
        "id": "LVM4utRzk0U7",
        "outputId": "8fa14aaa-8a2a-4c23-cc33-fa633d5f0e72"
      },
      "execution_count": 4,
      "outputs": [
        {
          "output_type": "stream",
          "name": "stdout",
          "text": [
            "\n",
            "Even Numbers:\n",
            "[932, 402, 906, 100, 250, 384, 848, 28, 176, 484, 980, 362, 258, 890, 518, 702, 288, 558, 890, 320, 304, 922, 148, 176, 318, 858, 66, 150, 318, 732, 766, 634, 44, 162, 288, 766, 964, 770, 132, 426, 798, 600, 500, 546, 826, 970, 840, 926, 166]\n"
          ]
        }
      ]
    },
    {
      "cell_type": "code",
      "source": [],
      "metadata": {
        "id": "7tK3JFu9k3zH"
      },
      "execution_count": null,
      "outputs": []
    }
  ]
}