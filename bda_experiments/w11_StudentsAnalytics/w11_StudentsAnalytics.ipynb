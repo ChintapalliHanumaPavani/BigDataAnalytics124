{
  "nbformat": 4,
  "nbformat_minor": 0,
  "metadata": {
    "colab": {
      "provenance": []
    },
    "kernelspec": {
      "name": "python3",
      "display_name": "Python 3"
    },
    "language_info": {
      "name": "python"
    }
  },
  "cells": [
    {
      "cell_type": "code",
      "execution_count": 1,
      "metadata": {
        "id": "8-0YLfsD9xqn"
      },
      "outputs": [],
      "source": [
        "!pip install pyspark -q"
      ]
    },
    {
      "cell_type": "code",
      "source": [
        "from google.colab import files\n",
        "\n",
        "# Upload your students.csv\n",
        "uploaded = files.upload()"
      ],
      "metadata": {
        "colab": {
          "base_uri": "https://localhost:8080/",
          "height": 73
        },
        "id": "-nxPfGwQ-Txh",
        "outputId": "5a022ce5-686f-41dd-f6f8-6f2f5c1fb762"
      },
      "execution_count": 2,
      "outputs": [
        {
          "output_type": "display_data",
          "data": {
            "text/plain": [
              "<IPython.core.display.HTML object>"
            ],
            "text/html": [
              "\n",
              "     <input type=\"file\" id=\"files-ca4e1a10-508b-43db-b44c-dd177c2ce24a\" name=\"files[]\" multiple disabled\n",
              "        style=\"border:none\" />\n",
              "     <output id=\"result-ca4e1a10-508b-43db-b44c-dd177c2ce24a\">\n",
              "      Upload widget is only available when the cell has been executed in the\n",
              "      current browser session. Please rerun this cell to enable.\n",
              "      </output>\n",
              "      <script>// Copyright 2017 Google LLC\n",
              "//\n",
              "// Licensed under the Apache License, Version 2.0 (the \"License\");\n",
              "// you may not use this file except in compliance with the License.\n",
              "// You may obtain a copy of the License at\n",
              "//\n",
              "//      http://www.apache.org/licenses/LICENSE-2.0\n",
              "//\n",
              "// Unless required by applicable law or agreed to in writing, software\n",
              "// distributed under the License is distributed on an \"AS IS\" BASIS,\n",
              "// WITHOUT WARRANTIES OR CONDITIONS OF ANY KIND, either express or implied.\n",
              "// See the License for the specific language governing permissions and\n",
              "// limitations under the License.\n",
              "\n",
              "/**\n",
              " * @fileoverview Helpers for google.colab Python module.\n",
              " */\n",
              "(function(scope) {\n",
              "function span(text, styleAttributes = {}) {\n",
              "  const element = document.createElement('span');\n",
              "  element.textContent = text;\n",
              "  for (const key of Object.keys(styleAttributes)) {\n",
              "    element.style[key] = styleAttributes[key];\n",
              "  }\n",
              "  return element;\n",
              "}\n",
              "\n",
              "// Max number of bytes which will be uploaded at a time.\n",
              "const MAX_PAYLOAD_SIZE = 100 * 1024;\n",
              "\n",
              "function _uploadFiles(inputId, outputId) {\n",
              "  const steps = uploadFilesStep(inputId, outputId);\n",
              "  const outputElement = document.getElementById(outputId);\n",
              "  // Cache steps on the outputElement to make it available for the next call\n",
              "  // to uploadFilesContinue from Python.\n",
              "  outputElement.steps = steps;\n",
              "\n",
              "  return _uploadFilesContinue(outputId);\n",
              "}\n",
              "\n",
              "// This is roughly an async generator (not supported in the browser yet),\n",
              "// where there are multiple asynchronous steps and the Python side is going\n",
              "// to poll for completion of each step.\n",
              "// This uses a Promise to block the python side on completion of each step,\n",
              "// then passes the result of the previous step as the input to the next step.\n",
              "function _uploadFilesContinue(outputId) {\n",
              "  const outputElement = document.getElementById(outputId);\n",
              "  const steps = outputElement.steps;\n",
              "\n",
              "  const next = steps.next(outputElement.lastPromiseValue);\n",
              "  return Promise.resolve(next.value.promise).then((value) => {\n",
              "    // Cache the last promise value to make it available to the next\n",
              "    // step of the generator.\n",
              "    outputElement.lastPromiseValue = value;\n",
              "    return next.value.response;\n",
              "  });\n",
              "}\n",
              "\n",
              "/**\n",
              " * Generator function which is called between each async step of the upload\n",
              " * process.\n",
              " * @param {string} inputId Element ID of the input file picker element.\n",
              " * @param {string} outputId Element ID of the output display.\n",
              " * @return {!Iterable<!Object>} Iterable of next steps.\n",
              " */\n",
              "function* uploadFilesStep(inputId, outputId) {\n",
              "  const inputElement = document.getElementById(inputId);\n",
              "  inputElement.disabled = false;\n",
              "\n",
              "  const outputElement = document.getElementById(outputId);\n",
              "  outputElement.innerHTML = '';\n",
              "\n",
              "  const pickedPromise = new Promise((resolve) => {\n",
              "    inputElement.addEventListener('change', (e) => {\n",
              "      resolve(e.target.files);\n",
              "    });\n",
              "  });\n",
              "\n",
              "  const cancel = document.createElement('button');\n",
              "  inputElement.parentElement.appendChild(cancel);\n",
              "  cancel.textContent = 'Cancel upload';\n",
              "  const cancelPromise = new Promise((resolve) => {\n",
              "    cancel.onclick = () => {\n",
              "      resolve(null);\n",
              "    };\n",
              "  });\n",
              "\n",
              "  // Wait for the user to pick the files.\n",
              "  const files = yield {\n",
              "    promise: Promise.race([pickedPromise, cancelPromise]),\n",
              "    response: {\n",
              "      action: 'starting',\n",
              "    }\n",
              "  };\n",
              "\n",
              "  cancel.remove();\n",
              "\n",
              "  // Disable the input element since further picks are not allowed.\n",
              "  inputElement.disabled = true;\n",
              "\n",
              "  if (!files) {\n",
              "    return {\n",
              "      response: {\n",
              "        action: 'complete',\n",
              "      }\n",
              "    };\n",
              "  }\n",
              "\n",
              "  for (const file of files) {\n",
              "    const li = document.createElement('li');\n",
              "    li.append(span(file.name, {fontWeight: 'bold'}));\n",
              "    li.append(span(\n",
              "        `(${file.type || 'n/a'}) - ${file.size} bytes, ` +\n",
              "        `last modified: ${\n",
              "            file.lastModifiedDate ? file.lastModifiedDate.toLocaleDateString() :\n",
              "                                    'n/a'} - `));\n",
              "    const percent = span('0% done');\n",
              "    li.appendChild(percent);\n",
              "\n",
              "    outputElement.appendChild(li);\n",
              "\n",
              "    const fileDataPromise = new Promise((resolve) => {\n",
              "      const reader = new FileReader();\n",
              "      reader.onload = (e) => {\n",
              "        resolve(e.target.result);\n",
              "      };\n",
              "      reader.readAsArrayBuffer(file);\n",
              "    });\n",
              "    // Wait for the data to be ready.\n",
              "    let fileData = yield {\n",
              "      promise: fileDataPromise,\n",
              "      response: {\n",
              "        action: 'continue',\n",
              "      }\n",
              "    };\n",
              "\n",
              "    // Use a chunked sending to avoid message size limits. See b/62115660.\n",
              "    let position = 0;\n",
              "    do {\n",
              "      const length = Math.min(fileData.byteLength - position, MAX_PAYLOAD_SIZE);\n",
              "      const chunk = new Uint8Array(fileData, position, length);\n",
              "      position += length;\n",
              "\n",
              "      const base64 = btoa(String.fromCharCode.apply(null, chunk));\n",
              "      yield {\n",
              "        response: {\n",
              "          action: 'append',\n",
              "          file: file.name,\n",
              "          data: base64,\n",
              "        },\n",
              "      };\n",
              "\n",
              "      let percentDone = fileData.byteLength === 0 ?\n",
              "          100 :\n",
              "          Math.round((position / fileData.byteLength) * 100);\n",
              "      percent.textContent = `${percentDone}% done`;\n",
              "\n",
              "    } while (position < fileData.byteLength);\n",
              "  }\n",
              "\n",
              "  // All done.\n",
              "  yield {\n",
              "    response: {\n",
              "      action: 'complete',\n",
              "    }\n",
              "  };\n",
              "}\n",
              "\n",
              "scope.google = scope.google || {};\n",
              "scope.google.colab = scope.google.colab || {};\n",
              "scope.google.colab._files = {\n",
              "  _uploadFiles,\n",
              "  _uploadFilesContinue,\n",
              "};\n",
              "})(self);\n",
              "</script> "
            ]
          },
          "metadata": {}
        },
        {
          "output_type": "stream",
          "name": "stdout",
          "text": [
            "Saving students.csv to students.csv\n"
          ]
        }
      ]
    },
    {
      "cell_type": "code",
      "source": [
        "from pyspark.sql import SparkSession\n",
        "from pyspark.sql.functions import col, avg, max, min, round, count\n",
        "# Step 1: Initialize Spark Session\n",
        "spark = SparkSession.builder.appName(\"StudentsAnalytics\").getOrCreate()"
      ],
      "metadata": {
        "id": "2PU0029Y-ix1"
      },
      "execution_count": 3,
      "outputs": []
    },
    {
      "cell_type": "code",
      "source": [
        "df = spark.read.csv(\"students.csv\", header=True, inferSchema=True)"
      ],
      "metadata": {
        "id": "xsRBh_wm-nms"
      },
      "execution_count": 4,
      "outputs": []
    },
    {
      "cell_type": "code",
      "source": [
        "print(\"=== First 5 rows ===\")\n",
        "df.show(5)"
      ],
      "metadata": {
        "colab": {
          "base_uri": "https://localhost:8080/"
        },
        "id": "ekJhM_Hw-qqF",
        "outputId": "2817793f-50cc-45d5-9361-8fb4dd94f1e8"
      },
      "execution_count": 5,
      "outputs": [
        {
          "output_type": "stream",
          "name": "stdout",
          "text": [
            "=== First 5 rows ===\n",
            "+---+-------+---+------+----+-------+-------+\n",
            "| id|   name|age|gender|math|science|english|\n",
            "+---+-------+---+------+----+-------+-------+\n",
            "|  1|  Alice| 20|     F|  66|     92|     44|\n",
            "|  2|    Bob| 20|     M|  82|     52|     77|\n",
            "|  3|Charlie| 22|     F|  43|     57|     76|\n",
            "|  4|  David| 19|     M|  95|     69|     46|\n",
            "|  5|    Eva| 19|     F|  62|     44|     96|\n",
            "+---+-------+---+------+----+-------+-------+\n",
            "only showing top 5 rows\n",
            "\n"
          ]
        }
      ]
    },
    {
      "cell_type": "code",
      "source": [
        "# 2. Print schema\n",
        "print(\"=== Schema ===\")\n",
        "df.printSchema()"
      ],
      "metadata": {
        "colab": {
          "base_uri": "https://localhost:8080/"
        },
        "id": "JTqYfp_S-ttS",
        "outputId": "fb43e1d3-78a9-478a-da11-815acb311d51"
      },
      "execution_count": 6,
      "outputs": [
        {
          "output_type": "stream",
          "name": "stdout",
          "text": [
            "=== Schema ===\n",
            "root\n",
            " |-- id: integer (nullable = true)\n",
            " |-- name: string (nullable = true)\n",
            " |-- age: integer (nullable = true)\n",
            " |-- gender: string (nullable = true)\n",
            " |-- math: integer (nullable = true)\n",
            " |-- science: integer (nullable = true)\n",
            " |-- english: integer (nullable = true)\n",
            "\n"
          ]
        }
      ]
    },
    {
      "cell_type": "code",
      "source": [
        "# 3. Count total rows\n",
        "print(\"Total rows:\", df.count())"
      ],
      "metadata": {
        "colab": {
          "base_uri": "https://localhost:8080/"
        },
        "id": "ifJtrQ3A-w7K",
        "outputId": "2bc85a3a-cf44-40f2-86ee-bcfe6bf01bc3"
      },
      "execution_count": 7,
      "outputs": [
        {
          "output_type": "stream",
          "name": "stdout",
          "text": [
            "Total rows: 50\n"
          ]
        }
      ]
    },
    {
      "cell_type": "code",
      "source": [
        "# 4. Show summary statistics (numeric columns)\n",
        "print(\"=== Summary Statistics ===\")\n",
        "df.describe().show()"
      ],
      "metadata": {
        "colab": {
          "base_uri": "https://localhost:8080/"
        },
        "id": "s57Ypx8Q-0Md",
        "outputId": "fe01fa14-4ceb-4265-851c-e0128dbb84cf"
      },
      "execution_count": 8,
      "outputs": [
        {
          "output_type": "stream",
          "name": "stdout",
          "text": [
            "=== Summary Statistics ===\n",
            "+-------+------------------+-----+------------------+------+------------------+------------------+-----------------+\n",
            "|summary|                id| name|               age|gender|              math|           science|          english|\n",
            "+-------+------------------+-----+------------------+------+------------------+------------------+-----------------+\n",
            "|  count|                50|   50|                50|    50|                50|                50|               50|\n",
            "|   mean|              25.5| NULL|              21.5|  NULL|             68.94|             70.16|            69.36|\n",
            "| stddev|14.577379737113251| NULL|2.2337851101588404|  NULL|17.609610085034216|14.636214521186957|18.74507826560544|\n",
            "|    min|                 1|Aaron|                18|     F|                40|                44|               42|\n",
            "|    max|                50| Zoey|                25|     M|               100|                99|              100|\n",
            "+-------+------------------+-----+------------------+------+------------------+------------------+-----------------+\n",
            "\n"
          ]
        }
      ]
    },
    {
      "cell_type": "code",
      "source": [
        "# 5. Select students with math >= 80\n",
        "print(\"=== Students with math >= 80 ===\")\n",
        "df.filter(col(\"math\") >= 80).select(\"id\", \"name\", \"math\").show(10)"
      ],
      "metadata": {
        "colab": {
          "base_uri": "https://localhost:8080/"
        },
        "id": "KUsC-awu-2PQ",
        "outputId": "ba3faf3d-e6cd-4fce-ac0c-77095d6e6c2e"
      },
      "execution_count": 9,
      "outputs": [
        {
          "output_type": "stream",
          "name": "stdout",
          "text": [
            "=== Students with math >= 80 ===\n",
            "+---+------+----+\n",
            "| id|  name|math|\n",
            "+---+------+----+\n",
            "|  2|   Bob|  82|\n",
            "|  4| David|  95|\n",
            "| 11| Kathy|  85|\n",
            "| 12|   Leo|  97|\n",
            "| 15|Olivia|  87|\n",
            "| 20|  Tina| 100|\n",
            "| 21|   Uma|  89|\n",
            "| 22|Victor|  96|\n",
            "| 25|  Yara| 100|\n",
            "| 27| Aaron|  81|\n",
            "+---+------+----+\n",
            "only showing top 10 rows\n",
            "\n"
          ]
        }
      ]
    },
    {
      "cell_type": "code",
      "source": [
        "# 6. Calculate average marks per subject\n",
        "print(\"=== Average marks per subject ===\")\n",
        "df.select(\n",
        "round(avg(\"math\"),2).alias(\"avg_math\"),\n",
        "round(avg(\"science\"),2).alias(\"avg_science\"),\n",
        "round(avg(\"english\"),2).alias(\"avg_english\")\n",
        ").show()"
      ],
      "metadata": {
        "colab": {
          "base_uri": "https://localhost:8080/"
        },
        "id": "JNb11Ur--42R",
        "outputId": "ca28e9eb-52de-4c6c-d047-31c4ef0aa75a"
      },
      "execution_count": 10,
      "outputs": [
        {
          "output_type": "stream",
          "name": "stdout",
          "text": [
            "=== Average marks per subject ===\n",
            "+--------+-----------+-----------+\n",
            "|avg_math|avg_science|avg_english|\n",
            "+--------+-----------+-----------+\n",
            "|   68.94|      70.16|      69.36|\n",
            "+--------+-----------+-----------+\n",
            "\n"
          ]
        }
      ]
    },
    {
      "cell_type": "code",
      "source": [
        "# 7. Add new column: average marks\n",
        "df_with_avg = df.withColumn(\"average\", round((col(\"math\")+col(\"science\")+col(\"english\"))/3,2))\n",
        "print(\"=== Dataset with 'average' column ===\")\n",
        "df_with_avg.show(5)"
      ],
      "metadata": {
        "colab": {
          "base_uri": "https://localhost:8080/"
        },
        "id": "mRJm9Cr5-7K-",
        "outputId": "1430c219-2052-4319-93de-97dcbb66e24e"
      },
      "execution_count": 11,
      "outputs": [
        {
          "output_type": "stream",
          "name": "stdout",
          "text": [
            "=== Dataset with 'average' column ===\n",
            "+---+-------+---+------+----+-------+-------+-------+\n",
            "| id|   name|age|gender|math|science|english|average|\n",
            "+---+-------+---+------+----+-------+-------+-------+\n",
            "|  1|  Alice| 20|     F|  66|     92|     44|  67.33|\n",
            "|  2|    Bob| 20|     M|  82|     52|     77|  70.33|\n",
            "|  3|Charlie| 22|     F|  43|     57|     76|  58.67|\n",
            "|  4|  David| 19|     M|  95|     69|     46|   70.0|\n",
            "|  5|    Eva| 19|     F|  62|     44|     96|  67.33|\n",
            "+---+-------+---+------+----+-------+-------+-------+\n",
            "only showing top 5 rows\n",
            "\n"
          ]
        }
      ]
    },
    {
      "cell_type": "code",
      "source": [
        "# 8. Find topper (student with max average)\n",
        "print(\"=== Topper ===\")\n",
        "df_with_avg.orderBy(col(\"average\").desc()).limit(1).show()"
      ],
      "metadata": {
        "colab": {
          "base_uri": "https://localhost:8080/"
        },
        "id": "rLQzMjvS-9qt",
        "outputId": "4c1a522c-8499-49a1-c991-b35d08aa5ae8"
      },
      "execution_count": 12,
      "outputs": [
        {
          "output_type": "stream",
          "name": "stdout",
          "text": [
            "=== Topper ===\n",
            "+---+----+---+------+----+-------+-------+-------+\n",
            "| id|name|age|gender|math|science|english|average|\n",
            "+---+----+---+------+----+-------+-------+-------+\n",
            "| 12| Leo| 24|     M|  97|     84|     83|   88.0|\n",
            "+---+----+---+------+----+-------+-------+-------+\n",
            "\n"
          ]
        }
      ]
    },
    {
      "cell_type": "code",
      "source": [
        "# 9. Group by gender → average marks\n",
        "print(\"=== Average marks by gender ===\")\n",
        "df_with_avg.groupBy(\"gender\").agg(\n",
        "round(avg(\"math\"),2).alias(\"avg_math\"),\n",
        "round(avg(\"science\"),2).alias(\"avg_science\"),\n",
        "round(avg(\"english\"),2).alias(\"avg_english\"),\n",
        "round(avg(\"average\"),2).alias(\"overall_avg\")\n",
        ").show()"
      ],
      "metadata": {
        "colab": {
          "base_uri": "https://localhost:8080/"
        },
        "id": "0vVWafwI-_4L",
        "outputId": "6dd34146-c1bd-4bc7-bc9c-d0e861c6c8ef"
      },
      "execution_count": 13,
      "outputs": [
        {
          "output_type": "stream",
          "name": "stdout",
          "text": [
            "=== Average marks by gender ===\n",
            "+------+--------+-----------+-----------+-----------+\n",
            "|gender|avg_math|avg_science|avg_english|overall_avg|\n",
            "+------+--------+-----------+-----------+-----------+\n",
            "|     F|   63.86|      68.55|      70.55|      67.66|\n",
            "|     M|   75.95|      72.38|      67.71|      72.02|\n",
            "+------+--------+-----------+-----------+-----------+\n",
            "\n"
          ]
        }
      ]
    },
    {
      "cell_type": "code",
      "source": [
        "# 10. Find min and max of each subject\n",
        "print(\"=== Min & Max of each subject ===\")\n",
        "df.select(\n",
        "min(\"math\").alias(\"min_math\"), max(\"math\").alias(\"max_math\"),\n",
        "min(\"science\").alias(\"min_science\"), max(\"science\").alias(\"max_science\"),\n",
        "min(\"english\").alias(\"min_english\"), max(\"english\").alias(\"max_english\")\n",
        ").show()"
      ],
      "metadata": {
        "colab": {
          "base_uri": "https://localhost:8080/"
        },
        "id": "zPr4-Nti_B59",
        "outputId": "eba7c8d4-cf2e-4c66-c875-76e7525a03ad"
      },
      "execution_count": 14,
      "outputs": [
        {
          "output_type": "stream",
          "name": "stdout",
          "text": [
            "=== Min & Max of each subject ===\n",
            "+--------+--------+-----------+-----------+-----------+-----------+\n",
            "|min_math|max_math|min_science|max_science|min_english|max_english|\n",
            "+--------+--------+-----------+-----------+-----------+-----------+\n",
            "|      40|     100|         44|         99|         42|        100|\n",
            "+--------+--------+-----------+-----------+-----------+-----------+\n",
            "\n"
          ]
        }
      ]
    },
    {
      "cell_type": "code",
      "source": [],
      "metadata": {
        "id": "1hGYX_ou_EfB"
      },
      "execution_count": null,
      "outputs": []
    }
  ]
}